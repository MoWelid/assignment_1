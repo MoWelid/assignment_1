{
 "cells": [
  {
   "cell_type": "markdown",
   "id": "49ffce67",
   "metadata": {},
   "source": [
    "# TASK 1"
   ]
  },
  {
   "cell_type": "code",
   "execution_count": 16,
   "id": "452bc94c",
   "metadata": {},
   "outputs": [
    {
     "name": "stdout",
     "output_type": "stream",
     "text": [
      "enter gravity: 6.67e-11\n",
      "enter bigger mass: 6e24\n",
      "enter smaller mass: 7.34e23\n",
      "enter distance between two masses: 3.84e8\n",
      "1.9920979817708333e+21\n"
     ]
    }
   ],
   "source": [
    "G = float(input(\"enter gravity: \"))\n",
    "M = float(input(\"enter bigger mass: \"))\n",
    "m = float(input(\"enter smaller mass: \"))\n",
    "r = float(input(\"enter distance between two masses: \"))\n",
    "F = (G*M*m) / r**2\n",
    "print(F)"
   ]
  },
  {
   "cell_type": "markdown",
   "id": "74c36e27",
   "metadata": {},
   "source": [
    "# TASK 2"
   ]
  },
  {
   "cell_type": "code",
   "execution_count": 62,
   "id": "9cc4360f",
   "metadata": {},
   "outputs": [
    {
     "name": "stdout",
     "output_type": "stream",
     "text": [
      "[1, 2, 'Fizz', 4, 'Buzz', 'Fizz', 7, 8, 'Fizz', 'Buzz', 11, 'Fizz', 13, 14, 'FizzBuzz', 16, 17, 'Fizz', 19, 'Buzz', 'Fizz', 22, 23, 'Fizz', 'Buzz', 26, 'Fizz', 28, 29, 'FizzBuzz', 31, 32, 'Fizz', 34, 'Buzz', 'Fizz', 37, 38, 'Fizz', 'Buzz', 41, 'Fizz', 43, 44, 'FizzBuzz', 46, 47, 'Fizz', 49, 'Buzz', 'Fizz', 52, 53, 'Fizz', 'Buzz', 56, 'Fizz', 58, 59, 'FizzBuzz', 61, 62, 'Fizz', 64, 'Buzz', 'Fizz', 67, 68, 'Fizz', 'Buzz', 71, 'Fizz', 73, 74, 'FizzBuzz', 76, 77, 'Fizz', 79, 'Buzz', 'Fizz', 82, 83, 'Fizz', 'Buzz', 86, 'Fizz', 88, 89, 'FizzBuzz', 91, 92, 'Fizz', 94, 'Buzz', 'Fizz', 97, 98, 'Fizz', 'Buzz']\n"
     ]
    }
   ],
   "source": [
    "i = 0\n",
    "while (i < 100):\n",
    "    i+=1\n",
    "    x=[i]\n",
    "    while (i < 100):\n",
    "        i+=1\n",
    "        x.append(i)\n",
    "       \n",
    "for j in range(len(x)):\n",
    "    if (x[j] % 3 == 0) & (x[j] % 5 == 0):\n",
    "        x[j] = \"FizzBuzz\"\n",
    "    elif (x[j] % 3 == 0):\n",
    "        x[j] = \"Fizz\"\n",
    "    elif (x[j] % 5 == 0):\n",
    "        x[j] = \"Buzz\"\n",
    "\n",
    "print(x)"
   ]
  },
  {
   "cell_type": "code",
   "execution_count": null,
   "id": "b6b8d214",
   "metadata": {},
   "outputs": [],
   "source": []
  },
  {
   "cell_type": "code",
   "execution_count": null,
   "id": "32094598",
   "metadata": {},
   "outputs": [],
   "source": []
  }
 ],
 "metadata": {
  "kernelspec": {
   "display_name": "Python 3 (ipykernel)",
   "language": "python",
   "name": "python3"
  },
  "language_info": {
   "codemirror_mode": {
    "name": "ipython",
    "version": 3
   },
   "file_extension": ".py",
   "mimetype": "text/x-python",
   "name": "python",
   "nbconvert_exporter": "python",
   "pygments_lexer": "ipython3",
   "version": "3.10.9"
  }
 },
 "nbformat": 4,
 "nbformat_minor": 5
}
